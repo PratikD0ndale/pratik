{
  "nbformat": 4,
  "nbformat_minor": 0,
  "metadata": {
    "colab": {
      "provenance": []
    },
    "kernelspec": {
      "name": "python3",
      "display_name": "Python 3"
    },
    "language_info": {
      "name": "python"
    }
  },
  "cells": [
    {
      "cell_type": "code",
      "execution_count": null,
      "metadata": {
        "id": "Zbg2YJyNr_cV"
      },
      "outputs": [],
      "source": [
        "import numpy as np\n",
        "import sympy as sp\n"
      ]
    },
    {
      "cell_type": "code",
      "source": [
        "x,y=sp.symbols('x y')\n",
        "f=2*x**2 + 3*y**2+9*x*y+24*x*y+90\n",
        "\n",
        "\n",
        "double_derivative_x=sp.diff(f,x,2)\n",
        "double_derivative_y=sp.diff(f,y,2)\n",
        "double_derivative_xy=sp.diff(f,x,y)\n",
        "\n",
        "\n",
        "hessian_matrix=sp.Matrix([[double_derivative_x,double_derivative_xy],[double_derivative_xy,double_derivative_y]])\n",
        "hessian_matrix\n"
      ],
      "metadata": {
        "colab": {
          "base_uri": "https://localhost:8080/",
          "height": 58
        },
        "id": "fpJvLwvJsNcp",
        "outputId": "f9f8ee8e-2e75-4c94-aee7-9efee645ee50"
      },
      "execution_count": null,
      "outputs": [
        {
          "output_type": "execute_result",
          "data": {
            "text/plain": [
              "Matrix([\n",
              "[ 4, 33],\n",
              "[33,  6]])"
            ],
            "text/latex": "$\\displaystyle \\left[\\begin{matrix}4 & 33\\\\33 & 6\\end{matrix}\\right]$"
          },
          "metadata": {},
          "execution_count": 2
        }
      ]
    },
    {
      "cell_type": "code",
      "source": [
        "##Optional\n",
        "determinant=hessian_matrix.det()\n",
        "\n",
        "\n",
        "if determinant>0:\n",
        "    if hessian_matrix[0, 0]>0:\n",
        "        print('Local Minima')\n",
        "    else:\n",
        "        print('Local Maxima')\n",
        "else:\n",
        "    print('Saddle Point')\n"
      ],
      "metadata": {
        "id": "oX15fqmvsS3m"
      },
      "execution_count": null,
      "outputs": []
    }
  ]
}
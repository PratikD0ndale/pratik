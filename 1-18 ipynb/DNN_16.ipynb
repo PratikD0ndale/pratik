{
  "nbformat": 4,
  "nbformat_minor": 0,
  "metadata": {
    "colab": {
      "provenance": []
    },
    "kernelspec": {
      "name": "python3",
      "display_name": "Python 3"
    },
    "language_info": {
      "name": "python"
    }
  },
  "cells": [
    {
      "cell_type": "code",
      "execution_count": null,
      "metadata": {
        "id": "u2FLD9TZ4P4o"
      },
      "outputs": [],
      "source": [
        "import numpy as np\n",
        "import pandas as pd\n",
        "import tensorflow as tf\n",
        "import tensorflow_probability as tfp\n",
        "from tensorflow.keras.models import Model\n",
        "from tensorflow.keras.layers import Input\n",
        "from tensorflow.keras.optimizers import Adam\n",
        "import seaborn as sns\n",
        "from sklearn.preprocessing import LabelEncoder\n",
        "from sklearn.model_selection import train_test_split\n",
        "from sklearn.metrics import accuracy_score, precision_score, recall_score\n",
        "import matplotlib.pyplot as plt\n"
      ]
    },
    {
      "cell_type": "code",
      "source": [
        "# Load and prepare the Iris dataset\n",
        "df = sns.load_dataset('iris')\n",
        "x = df.drop(columns=['species'])\n",
        "y = df['species']\n",
        "\n",
        "\n",
        "# Encode the labels\n",
        "le = LabelEncoder()\n",
        "y = le.fit_transform(y)\n"
      ],
      "metadata": {
        "id": "_TTORFdl4Ztx"
      },
      "execution_count": null,
      "outputs": []
    },
    {
      "cell_type": "code",
      "source": [
        "# Split the data\n",
        "x_train, x_test, y_train, y_test = train_test_split(x, y, test_size=0.2, random_state=42)\n",
        "\n",
        "\n",
        "# Define the model using tf.keras.Model\n",
        "class BayesianNN(Model):\n",
        "    def __init__(self):\n",
        "        super(BayesianNN, self).__init__()\n",
        "        # Define the DenseFlipout layers\n",
        "        self.dense1 = tfp.layers.DenseFlipout(64, activation='relu')\n",
        "        self.dense2 = tfp.layers.DenseFlipout(32, activation='relu')\n",
        "        self.dense3 = tfp.layers.DenseFlipout(3, activation='softmax')\n",
        "    def call(self, inputs):\n",
        "        x = self.dense1(inputs)\n",
        "        x = self.dense2(x)\n",
        "        return self.dense3(x)\n"
      ],
      "metadata": {
        "id": "fkzhXKhk4aTR"
      },
      "execution_count": null,
      "outputs": []
    },
    {
      "cell_type": "code",
      "source": [
        "# Create and compile the Bayesian Neural Network\n",
        "model = BayesianNN()\n",
        "model.build(input_shape=(None, x_train.shape[1]))  # Set input shape for the model\n",
        "model.compile(optimizer=Adam(learning_rate=0.001),\n",
        "              loss='sparse_categorical_crossentropy',\n",
        "              metrics=['accuracy'])\n",
        "\n",
        "\n",
        "# Train the model\n",
        "history = model.fit(x_train, y_train, epochs=25, batch_size=32, validation_split=0.2)\n",
        "\n",
        "\n",
        "# Make predictions\n",
        "y_pred_prob = model.predict(x_test)\n",
        "y_pred = np.argmax(y_pred_prob, axis=1)\n",
        "\n",
        "\n",
        "# Evaluate the model\n",
        "accuracy = accuracy_score(y_test, y_pred)\n",
        "precision = precision_score(y_test, y_pred, average='weighted')\n",
        "recall = recall_score(y_test, y_pred, average='weighted')\n",
        "\n",
        "\n",
        "# Print the evaluation metrics\n",
        "print(f'Accuracy: {accuracy:.4f}')\n",
        "print(f'Precision: {precision:.4f}')\n",
        "print(f'Recall: {recall:.4f}')\n"
      ],
      "metadata": {
        "colab": {
          "base_uri": "https://localhost:8080/"
        },
        "id": "w7kL0HO34do0",
        "outputId": "fb907d96-8db6-49da-ee1d-605b61d478c3"
      },
      "execution_count": null,
      "outputs": [
        {
          "output_type": "stream",
          "name": "stdout",
          "text": [
            "Epoch 1/25\n"
          ]
        },
        {
          "output_type": "stream",
          "name": "stderr",
          "text": [
            "/usr/local/lib/python3.11/dist-packages/tensorflow_probability/python/layers/util.py:99: UserWarning: `layer.add_variable` is deprecated and will be removed in a future version. Please use the `layer.add_weight()` method instead.\n",
            "  loc = add_variable_fn(\n",
            "/usr/local/lib/python3.11/dist-packages/tensorflow_probability/python/layers/util.py:109: UserWarning: `layer.add_variable` is deprecated and will be removed in a future version. Please use the `layer.add_weight()` method instead.\n",
            "  untransformed_scale = add_variable_fn(\n",
            "/usr/local/lib/python3.11/dist-packages/tf_keras/src/initializers/initializers.py:121: UserWarning: The initializer RandomNormal is unseeded and being called multiple times, which will return identical values each time (even if the initializer is unseeded). Please update your code to provide a seed to the initializer, or avoid using the same initializer instance more than once.\n",
            "  warnings.warn(\n",
            "/usr/local/lib/python3.11/dist-packages/keras/src/backend/tensorflow/trainer.py:82: UserWarning: The model does not have any trainable weights.\n",
            "  warnings.warn(\"The model does not have any trainable weights.\")\n"
          ]
        },
        {
          "output_type": "stream",
          "name": "stdout",
          "text": [
            "\u001b[1m3/3\u001b[0m \u001b[32m━━━━━━━━━━━━━━━━━━━━\u001b[0m\u001b[37m\u001b[0m \u001b[1m5s\u001b[0m 2s/step - accuracy: 0.3424 - loss: 1.1103 - val_accuracy: 0.4583 - val_loss: 1.0691\n",
            "Epoch 2/25\n",
            "\u001b[1m3/3\u001b[0m \u001b[32m━━━━━━━━━━━━━━━━━━━━\u001b[0m\u001b[37m\u001b[0m \u001b[1m0s\u001b[0m 162ms/step - accuracy: 0.3581 - loss: 1.1045 - val_accuracy: 0.2500 - val_loss: 1.1524\n",
            "Epoch 3/25\n",
            "\u001b[1m3/3\u001b[0m \u001b[32m━━━━━━━━━━━━━━━━━━━━\u001b[0m\u001b[37m\u001b[0m \u001b[1m0s\u001b[0m 77ms/step - accuracy: 0.3034 - loss: 1.1441 - val_accuracy: 0.2917 - val_loss: 1.1347\n",
            "Epoch 4/25\n",
            "\u001b[1m3/3\u001b[0m \u001b[32m━━━━━━━━━━━━━━━━━━━━\u001b[0m\u001b[37m\u001b[0m \u001b[1m0s\u001b[0m 57ms/step - accuracy: 0.3906 - loss: 1.0901 - val_accuracy: 0.3333 - val_loss: 1.1297\n",
            "Epoch 5/25\n",
            "\u001b[1m3/3\u001b[0m \u001b[32m━━━━━━━━━━━━━━━━━━━━\u001b[0m\u001b[37m\u001b[0m \u001b[1m0s\u001b[0m 63ms/step - accuracy: 0.2617 - loss: 1.1596 - val_accuracy: 0.2500 - val_loss: 1.2174\n",
            "Epoch 6/25\n",
            "\u001b[1m3/3\u001b[0m \u001b[32m━━━━━━━━━━━━━━━━━━━━\u001b[0m\u001b[37m\u001b[0m \u001b[1m0s\u001b[0m 72ms/step - accuracy: 0.2956 - loss: 1.1162 - val_accuracy: 0.4167 - val_loss: 1.0701\n",
            "Epoch 7/25\n",
            "\u001b[1m3/3\u001b[0m \u001b[32m━━━━━━━━━━━━━━━━━━━━\u001b[0m\u001b[37m\u001b[0m \u001b[1m0s\u001b[0m 71ms/step - accuracy: 0.3008 - loss: 1.1358 - val_accuracy: 0.4167 - val_loss: 1.0834\n",
            "Epoch 8/25\n",
            "\u001b[1m3/3\u001b[0m \u001b[32m━━━━━━━━━━━━━━━━━━━━\u001b[0m\u001b[37m\u001b[0m \u001b[1m0s\u001b[0m 71ms/step - accuracy: 0.2891 - loss: 1.1436 - val_accuracy: 0.2500 - val_loss: 1.1341\n",
            "Epoch 9/25\n",
            "\u001b[1m3/3\u001b[0m \u001b[32m━━━━━━━━━━━━━━━━━━━━\u001b[0m\u001b[37m\u001b[0m \u001b[1m0s\u001b[0m 122ms/step - accuracy: 0.3398 - loss: 1.1194 - val_accuracy: 0.2917 - val_loss: 1.1293\n",
            "Epoch 10/25\n",
            "\u001b[1m3/3\u001b[0m \u001b[32m━━━━━━━━━━━━━━━━━━━━\u001b[0m\u001b[37m\u001b[0m \u001b[1m0s\u001b[0m 94ms/step - accuracy: 0.3203 - loss: 1.1515 - val_accuracy: 0.3333 - val_loss: 1.1109\n",
            "Epoch 11/25\n",
            "\u001b[1m3/3\u001b[0m \u001b[32m━━━━━━━━━━━━━━━━━━━━\u001b[0m\u001b[37m\u001b[0m \u001b[1m0s\u001b[0m 98ms/step - accuracy: 0.4049 - loss: 1.1160 - val_accuracy: 0.2917 - val_loss: 1.1234\n",
            "Epoch 12/25\n",
            "\u001b[1m3/3\u001b[0m \u001b[32m━━━━━━━━━━━━━━━━━━━━\u001b[0m\u001b[37m\u001b[0m \u001b[1m0s\u001b[0m 67ms/step - accuracy: 0.3424 - loss: 1.1314 - val_accuracy: 0.2917 - val_loss: 1.1756\n",
            "Epoch 13/25\n",
            "\u001b[1m3/3\u001b[0m \u001b[32m━━━━━━━━━━━━━━━━━━━━\u001b[0m\u001b[37m\u001b[0m \u001b[1m0s\u001b[0m 93ms/step - accuracy: 0.3698 - loss: 1.1183 - val_accuracy: 0.2917 - val_loss: 1.1237\n",
            "Epoch 14/25\n",
            "\u001b[1m3/3\u001b[0m \u001b[32m━━━━━━━━━━━━━━━━━━━━\u001b[0m\u001b[37m\u001b[0m \u001b[1m0s\u001b[0m 65ms/step - accuracy: 0.3359 - loss: 1.1352 - val_accuracy: 0.3333 - val_loss: 1.1137\n",
            "Epoch 15/25\n",
            "\u001b[1m3/3\u001b[0m \u001b[32m━━━━━━━━━━━━━━━━━━━━\u001b[0m\u001b[37m\u001b[0m \u001b[1m0s\u001b[0m 35ms/step - accuracy: 0.3594 - loss: 1.1053 - val_accuracy: 0.2917 - val_loss: 1.1212\n",
            "Epoch 16/25\n",
            "\u001b[1m3/3\u001b[0m \u001b[32m━━━━━━━━━━━━━━━━━━━━\u001b[0m\u001b[37m\u001b[0m \u001b[1m0s\u001b[0m 33ms/step - accuracy: 0.4010 - loss: 1.1190 - val_accuracy: 0.2500 - val_loss: 1.1828\n",
            "Epoch 17/25\n",
            "\u001b[1m3/3\u001b[0m \u001b[32m━━━━━━━━━━━━━━━━━━━━\u001b[0m\u001b[37m\u001b[0m \u001b[1m0s\u001b[0m 33ms/step - accuracy: 0.3112 - loss: 1.1198 - val_accuracy: 0.3750 - val_loss: 1.1308\n",
            "Epoch 18/25\n",
            "\u001b[1m3/3\u001b[0m \u001b[32m━━━━━━━━━━━━━━━━━━━━\u001b[0m\u001b[37m\u001b[0m \u001b[1m0s\u001b[0m 34ms/step - accuracy: 0.2969 - loss: 1.1422 - val_accuracy: 0.2500 - val_loss: 1.1705\n",
            "Epoch 19/25\n",
            "\u001b[1m3/3\u001b[0m \u001b[32m━━━━━━━━━━━━━━━━━━━━\u001b[0m\u001b[37m\u001b[0m \u001b[1m0s\u001b[0m 34ms/step - accuracy: 0.4375 - loss: 1.1009 - val_accuracy: 0.2500 - val_loss: 1.1711\n",
            "Epoch 20/25\n",
            "\u001b[1m3/3\u001b[0m \u001b[32m━━━━━━━━━━━━━━━━━━━━\u001b[0m\u001b[37m\u001b[0m \u001b[1m0s\u001b[0m 37ms/step - accuracy: 0.3724 - loss: 1.1073 - val_accuracy: 0.2500 - val_loss: 1.1248\n",
            "Epoch 21/25\n",
            "\u001b[1m3/3\u001b[0m \u001b[32m━━━━━━━━━━━━━━━━━━━━\u001b[0m\u001b[37m\u001b[0m \u001b[1m0s\u001b[0m 35ms/step - accuracy: 0.2982 - loss: 1.1339 - val_accuracy: 0.2500 - val_loss: 1.1636\n",
            "Epoch 22/25\n",
            "\u001b[1m3/3\u001b[0m \u001b[32m━━━━━━━━━━━━━━━━━━━━\u001b[0m\u001b[37m\u001b[0m \u001b[1m0s\u001b[0m 35ms/step - accuracy: 0.3464 - loss: 1.1191 - val_accuracy: 0.3750 - val_loss: 1.0991\n",
            "Epoch 23/25\n",
            "\u001b[1m3/3\u001b[0m \u001b[32m━━━━━━━━━━━━━━━━━━━━\u001b[0m\u001b[37m\u001b[0m \u001b[1m0s\u001b[0m 34ms/step - accuracy: 0.2617 - loss: 1.1242 - val_accuracy: 0.2500 - val_loss: 1.1009\n",
            "Epoch 24/25\n",
            "\u001b[1m3/3\u001b[0m \u001b[32m━━━━━━━━━━━━━━━━━━━━\u001b[0m\u001b[37m\u001b[0m \u001b[1m0s\u001b[0m 34ms/step - accuracy: 0.2539 - loss: 1.1435 - val_accuracy: 0.2917 - val_loss: 1.1477\n",
            "Epoch 25/25\n",
            "\u001b[1m3/3\u001b[0m \u001b[32m━━━━━━━━━━━━━━━━━━━━\u001b[0m\u001b[37m\u001b[0m \u001b[1m0s\u001b[0m 34ms/step - accuracy: 0.3099 - loss: 1.1173 - val_accuracy: 0.3333 - val_loss: 1.1279\n",
            "\u001b[1m1/1\u001b[0m \u001b[32m━━━━━━━━━━━━━━━━━━━━\u001b[0m\u001b[37m\u001b[0m \u001b[1m0s\u001b[0m 434ms/step\n",
            "Accuracy: 0.2667\n",
            "Precision: 0.2222\n",
            "Recall: 0.2667\n"
          ]
        }
      ]
    }
  ]
}
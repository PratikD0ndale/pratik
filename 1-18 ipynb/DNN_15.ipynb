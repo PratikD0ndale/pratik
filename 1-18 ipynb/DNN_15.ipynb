{
  "nbformat": 4,
  "nbformat_minor": 0,
  "metadata": {
    "colab": {
      "provenance": []
    },
    "kernelspec": {
      "name": "python3",
      "display_name": "Python 3"
    },
    "language_info": {
      "name": "python"
    }
  },
  "cells": [
    {
      "cell_type": "code",
      "execution_count": null,
      "metadata": {
        "id": "dNbCSRjIsdie"
      },
      "outputs": [],
      "source": [
        "import numpy as np\n",
        "import sympy as sp\n",
        "x, y = sp.symbols('x y')\n",
        "f = 2*x**2 + 3*y**2 + 33*x*y + 90\n",
        "double_derivative_x = sp.diff(f, x, 2)\n",
        "double_derivative_y = sp.diff(f, y, 2)\n",
        "double_derivative_xy = sp.diff(f, x, y)\n",
        "hessian_matrix = sp.Matrix([[double_derivative_x, double_derivative_xy],\n",
        "                            [double_derivative_xy, double_derivative_y]])\n",
        "grad_x=sp.diff(f,x)\n",
        "grad_y=sp.diff(f,y)\n"
      ]
    },
    {
      "cell_type": "code",
      "source": [
        "grad_func = sp.lambdify((x, y), [grad_x, grad_y], 'numpy')\n",
        "hessian_func = sp.lambdify((x, y), hessian_matrix, 'numpy')"
      ],
      "metadata": {
        "id": "LYyZiH8233G1"
      },
      "execution_count": null,
      "outputs": []
    },
    {
      "cell_type": "code",
      "source": [
        "x_k = np.array([1.0, 1.0])\n",
        "tol = 0.0000006\n",
        "max_iter = 100\n",
        "for i in range(max_iter):\n",
        "    grad = np.array(grad_func(*x_k), dtype=float)\n",
        "    H = np.array(hessian_func(*x_k), dtype=float)\n",
        "    H_inv = np.linalg.inv(H)\n",
        "    x_k = x_k - H_inv @ grad\n",
        "    if np.linalg.norm(grad) < tol:\n",
        "        break\n",
        "optimal_x, optimal_y = x_k\n",
        "optimal_value = f.subs({x: optimal_x, y: optimal_y})\n",
        "print(\"Optimal x:\", optimal_x)\n",
        "print(\"Optimal y:\", optimal_y)\n",
        "print(\"Optimal Objective Value:\", optimal_value)\n",
        "\n"
      ],
      "metadata": {
        "colab": {
          "base_uri": "https://localhost:8080/"
        },
        "id": "DSQyOUu_33gP",
        "outputId": "06660743-30eb-4833-b84d-e78b3fbdf6e2"
      },
      "execution_count": null,
      "outputs": [
        {
          "output_type": "stream",
          "name": "stdout",
          "text": [
            "Optimal x: 0.0\n",
            "Optimal y: 1.5407439555097887e-33\n",
            "Optimal Objective Value: 90.0000000000000\n"
          ]
        }
      ]
    }
  ]
}